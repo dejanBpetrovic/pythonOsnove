{
 "cells": [
  {
   "cell_type": "code",
   "execution_count": null,
   "metadata": {},
   "outputs": [],
   "source": [
    "#kreiranje funkcije - osnovna sintaksa\n",
    "def zdravo_svete():\n",
    "    print(\"ZDRAVO SVETE\")"
   ]
  },
  {
   "cell_type": "code",
   "execution_count": null,
   "metadata": {},
   "outputs": [],
   "source": [
    "zdravo_svete()"
   ]
  },
  {
   "cell_type": "code",
   "execution_count": null,
   "metadata": {},
   "outputs": [],
   "source": [
    "#kreiranje funkcije - kreiranje pre pozivanja\n",
    "\n",
    "zdravo_svete1()\n",
    "\n",
    "def zdravo_svete1():\n",
    "    print(\"ZDRAVO SVETE\")"
   ]
  },
  {
   "cell_type": "code",
   "execution_count": null,
   "metadata": {},
   "outputs": [],
   "source": [
    "#kreiranje funkcije - kreiranje sa parametrom\n",
    "\n",
    "def zdravo_parametre1(param):\n",
    "    print(param)\n",
    "\n",
    "#pozivanje funkcije sa prosleđenim argumentom (\"ZDRAVO PARAMETRE\")    \n",
    "zdravo_parametre1(\"ZDRAVO PARAMETRE\")    "
   ]
  },
  {
   "cell_type": "code",
   "execution_count": null,
   "metadata": {},
   "outputs": [],
   "source": [
    "#kreiranje funkcije - kreiranje sa više parametara\n",
    "\n",
    "def zdravo_parametri(prvi,drugi):\n",
    "    print(prvi,drugi)\n",
    "\n",
    "#pozivanje funkcije sa prosleđenim argumentom (\"ZDRAVO PARAMETRE\")    \n",
    "zdravo_parametri(\"ZDRAVO PARAMETRE prvi\" , \"ZDRAVO PARAMETRE drugi\") \n",
    "\n",
    "zdravo_parametri(drugi=\"ZDRAVO PARAMETRE prvi\" , prvi=\"ZDRAVO PARAMETRE drugi\") "
   ]
  },
  {
   "cell_type": "code",
   "execution_count": null,
   "metadata": {},
   "outputs": [],
   "source": [
    "#kreiranje funkcije - kreiranje sa više parametara i podrazumevane vrednosti\n",
    "\n",
    "def parametri_podrazumevani(prvi,drugi=\"PODRAZUMEVANI\"):\n",
    "    print(prvi,drugi)\n",
    "    \n",
    "parametri_podrazumevani(prvi=\"JA SAM NOVI    \")    "
   ]
  },
  {
   "cell_type": "code",
   "execution_count": null,
   "metadata": {},
   "outputs": [],
   "source": [
    "parametri_podrazumevani(prvi=\"JA SAM NOVI    \", drugi=\"JA SAM ZAMENA\") "
   ]
  },
  {
   "cell_type": "code",
   "execution_count": null,
   "metadata": {},
   "outputs": [],
   "source": [
    "#kreiranje funkcije - sa vraćanjem vrednosti\n",
    "\n",
    "def par_nepar(broj):\n",
    "    \n",
    "    \"\"\"\"OVA FUNKCIJA PROVERAVA DA LI JE BROJ PARAN ILI NEPARAN\"\"\"\n",
    "    \n",
    "    if broj % 2==0:\n",
    "        \n",
    "        return \"PAR\"\n",
    "    else:\n",
    "        return \"NEPAR\"\n",
    "    \n",
    "#promenjiva rezultat koja prihvata vrednost koju prosleđjuje funkcija\n",
    "rezultat = par_nepar(8)\n",
    "\n",
    "print (rezultat)"
   ]
  },
  {
   "cell_type": "code",
   "execution_count": null,
   "metadata": {},
   "outputs": [],
   "source": [
    "help(par_nepar)"
   ]
  },
  {
   "cell_type": "code",
   "execution_count": 24,
   "metadata": {},
   "outputs": [
    {
     "name": "stdout",
     "output_type": "stream",
     "text": [
      "ZDRAVO SVETE\n"
     ]
    }
   ],
   "source": [
    "#UGRAĐENE FUNKCIJE\n",
    "\n",
    "print(\"ZDRAVO SVETE\")"
   ]
  },
  {
   "cell_type": "code",
   "execution_count": 25,
   "metadata": {},
   "outputs": [
    {
     "data": {
      "text/plain": [
       "6"
      ]
     },
     "execution_count": 25,
     "metadata": {},
     "output_type": "execute_result"
    }
   ],
   "source": [
    "promenijva2=\"dužina\"\n",
    "\n",
    "len(promenijva2)\n"
   ]
  },
  {
   "cell_type": "code",
   "execution_count": 26,
   "metadata": {},
   "outputs": [
    {
     "name": "stdout",
     "output_type": "stream",
     "text": [
      "Unesi broj: broj\n"
     ]
    },
    {
     "data": {
      "text/plain": [
       "'broj'"
      ]
     },
     "execution_count": 26,
     "metadata": {},
     "output_type": "execute_result"
    }
   ],
   "source": [
    "input (\"Unesi broj: \")"
   ]
  },
  {
   "cell_type": "code",
   "execution_count": 27,
   "metadata": {},
   "outputs": [
    {
     "data": {
      "text/plain": [
       "int"
      ]
     },
     "execution_count": 27,
     "metadata": {},
     "output_type": "execute_result"
    }
   ],
   "source": [
    "type(9)"
   ]
  },
  {
   "cell_type": "code",
   "execution_count": null,
   "metadata": {},
   "outputs": [],
   "source": []
  }
 ],
 "metadata": {
  "kernelspec": {
   "display_name": "Python 3",
   "language": "python",
   "name": "python3"
  },
  "language_info": {
   "codemirror_mode": {
    "name": "ipython",
    "version": 3
   },
   "file_extension": ".py",
   "mimetype": "text/x-python",
   "name": "python",
   "nbconvert_exporter": "python",
   "pygments_lexer": "ipython3",
   "version": "3.6.5"
  }
 },
 "nbformat": 4,
 "nbformat_minor": 2
}
