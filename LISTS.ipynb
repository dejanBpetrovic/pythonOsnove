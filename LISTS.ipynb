{
 "cells": [
  {
   "cell_type": "code",
   "execution_count": 1,
   "metadata": {},
   "outputs": [],
   "source": [
    "#kreiranje liste\n",
    "lista = ['prvi clan','drugi clan','treci clan']"
   ]
  },
  {
   "cell_type": "code",
   "execution_count": 2,
   "metadata": {},
   "outputs": [
    {
     "data": {
      "text/plain": [
       "'drugi clan'"
      ]
     },
     "execution_count": 2,
     "metadata": {},
     "output_type": "execute_result"
    }
   ],
   "source": [
    "#pretraga liste po indeksu\n",
    "lista[1]"
   ]
  },
  {
   "cell_type": "code",
   "execution_count": 3,
   "metadata": {},
   "outputs": [
    {
     "name": "stdout",
     "output_type": "stream",
     "text": [
      "prvi clan\n"
     ]
    }
   ],
   "source": [
    "print (lista[0])"
   ]
  },
  {
   "cell_type": "code",
   "execution_count": 9,
   "metadata": {},
   "outputs": [],
   "source": [
    "#promena vrednosti\n",
    "lista[2] = 'cetvrti clan'"
   ]
  },
  {
   "cell_type": "code",
   "execution_count": 8,
   "metadata": {},
   "outputs": [
    {
     "data": {
      "text/plain": [
       "['prvi clan', 'drugi clan', 'cetvrt clan']"
      ]
     },
     "execution_count": 8,
     "metadata": {},
     "output_type": "execute_result"
    }
   ],
   "source": [
    "lista"
   ]
  },
  {
   "cell_type": "code",
   "execution_count": 10,
   "metadata": {},
   "outputs": [],
   "source": [
    "#promena vrednosti\n",
    "lista[2] = 'treci clan'"
   ]
  },
  {
   "cell_type": "code",
   "execution_count": 11,
   "metadata": {},
   "outputs": [],
   "source": [
    "#dodavanje novog clana liste\n",
    "lista.append('cetvrti clan')"
   ]
  },
  {
   "cell_type": "code",
   "execution_count": 12,
   "metadata": {},
   "outputs": [
    {
     "data": {
      "text/plain": [
       "['prvi clan', 'drugi clan', 'treci clan', 'cetvrti clan']"
      ]
     },
     "execution_count": 12,
     "metadata": {},
     "output_type": "execute_result"
    }
   ],
   "source": [
    "lista"
   ]
  },
  {
   "cell_type": "code",
   "execution_count": 13,
   "metadata": {},
   "outputs": [],
   "source": [
    "#proširenje liste listom\n",
    "lista.extend(['5. clan','6. clan','7.clan'])"
   ]
  },
  {
   "cell_type": "code",
   "execution_count": 15,
   "metadata": {},
   "outputs": [
    {
     "name": "stdout",
     "output_type": "stream",
     "text": [
      "['prvi clan', 'drugi clan', 'treci clan', 'cetvrti clan', '5. clan', '6. clan', '7.clan']\n"
     ]
    }
   ],
   "source": [
    "print (lista)"
   ]
  },
  {
   "cell_type": "code",
   "execution_count": 16,
   "metadata": {},
   "outputs": [],
   "source": [
    "#selektovanje dela liste od:do indeksa \n",
    "deo_liste = lista[0:3]"
   ]
  },
  {
   "cell_type": "code",
   "execution_count": 20,
   "metadata": {},
   "outputs": [
    {
     "name": "stdout",
     "output_type": "stream",
     "text": [
      "Lista sa prva tri clana liste: ['prvi clan', 'drugi clan', 'treci clan']\n"
     ]
    }
   ],
   "source": [
    "print('Lista sa prva tri clana liste: {}'.format(deo_liste))"
   ]
  },
  {
   "cell_type": "code",
   "execution_count": 23,
   "metadata": {},
   "outputs": [
    {
     "name": "stdout",
     "output_type": "stream",
     "text": [
      "First two animals: ['prvi clan', 'drugi clan']\n"
     ]
    }
   ],
   "source": [
    "#selektovanje clanova liste do indeksa\n",
    "prva_dva_clana = lista[:2] \n",
    "print('First two animals: {}'.format(prva_dva_clana)) "
   ]
  },
  {
   "cell_type": "code",
   "execution_count": 28,
   "metadata": {},
   "outputs": [
    {
     "name": "stdout",
     "output_type": "stream",
     "text": [
      "Last two animals: ['6. clan', '7.clan']\n"
     ]
    }
   ],
   "source": [
    "#selektovanje poslednja dva člana 1. način\n",
    "zadnja_dva_clana = lista[5:7] \n",
    "print('Last two animals: {}'.format(zadnja_dva_clana)) "
   ]
  },
  {
   "cell_type": "code",
   "execution_count": 29,
   "metadata": {},
   "outputs": [
    {
     "name": "stdout",
     "output_type": "stream",
     "text": [
      "Last two animals: ['6. clan', '7.clan']\n"
     ]
    }
   ],
   "source": [
    "#selektovanje poslednja dva člana 2. način\n",
    "zadnja_dva_ponovo = lista[-2:] \n",
    "print('Last two animals: {}'.format(zadnja_dva_ponovo))"
   ]
  },
  {
   "cell_type": "code",
   "execution_count": null,
   "metadata": {},
   "outputs": [],
   "source": []
  }
 ],
 "metadata": {
  "kernelspec": {
   "display_name": "Python 3",
   "language": "python",
   "name": "python3"
  },
  "language_info": {
   "codemirror_mode": {
    "name": "ipython",
    "version": 3
   },
   "file_extension": ".py",
   "mimetype": "text/x-python",
   "name": "python",
   "nbconvert_exporter": "python",
   "pygments_lexer": "ipython3",
   "version": "3.6.5"
  }
 },
 "nbformat": 4,
 "nbformat_minor": 2
}
